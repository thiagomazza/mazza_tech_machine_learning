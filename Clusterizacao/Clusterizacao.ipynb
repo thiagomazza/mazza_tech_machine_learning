{
 "cells": [
  {
   "cell_type": "markdown",
   "metadata": {},
   "source": [
    "# 1 - Import das bibliotecas"
   ]
  },
  {
   "cell_type": "code",
   "execution_count": null,
   "metadata": {},
   "outputs": [],
   "source": [
    "pip install matplotlib"
   ]
  },
  {
   "cell_type": "code",
   "execution_count": 1,
   "metadata": {},
   "outputs": [],
   "source": [
    "import numpy             as np \n",
    "import pandas            as pd\n",
    "from sklearn.cluster     import KMeans, AffinityPropagation\n",
    "from sklearn.metrics     import silhouette_score\n",
    "import matplotlib.pyplot as plt"
   ]
  },
  {
   "cell_type": "markdown",
   "metadata": {},
   "source": [
    "# 2 - Import da Base"
   ]
  },
  {
   "cell_type": "code",
   "execution_count": 2,
   "metadata": {},
   "outputs": [],
   "source": [
    "# Carregue o conjunto de dados\n",
    "dataset = pd.read_csv('X_dataset.csv')"
   ]
  },
  {
   "cell_type": "markdown",
   "metadata": {},
   "source": [
    "# 3 - Clusterização - Base única"
   ]
  },
  {
   "cell_type": "code",
   "execution_count": 3,
   "metadata": {},
   "outputs": [
    {
     "name": "stderr",
     "output_type": "stream",
     "text": [
      "c:\\Users\\thiag\\anaconda3\\envs\\VsCode\\Lib\\site-packages\\sklearn\\cluster\\_kmeans.py:870: FutureWarning: The default value of `n_init` will change from 10 to 'auto' in 1.4. Set the value of `n_init` explicitly to suppress the warning\n",
      "  warnings.warn(\n",
      "c:\\Users\\thiag\\anaconda3\\envs\\VsCode\\Lib\\site-packages\\sklearn\\cluster\\_kmeans.py:1382: UserWarning: KMeans is known to have a memory leak on Windows with MKL, when there are less chunks than available threads. You can avoid it by setting the environment variable OMP_NUM_THREADS=1.\n",
      "  warnings.warn(\n"
     ]
    },
    {
     "data": {
      "text/html": [
       "<div>\n",
       "<style scoped>\n",
       "    .dataframe tbody tr th:only-of-type {\n",
       "        vertical-align: middle;\n",
       "    }\n",
       "\n",
       "    .dataframe tbody tr th {\n",
       "        vertical-align: top;\n",
       "    }\n",
       "\n",
       "    .dataframe thead th {\n",
       "        text-align: right;\n",
       "    }\n",
       "</style>\n",
       "<table border=\"1\" class=\"dataframe\">\n",
       "  <thead>\n",
       "    <tr style=\"text-align: right;\">\n",
       "      <th></th>\n",
       "      <th>Algorithm</th>\n",
       "      <th>Parameter</th>\n",
       "      <th>Silhouette Score</th>\n",
       "    </tr>\n",
       "  </thead>\n",
       "  <tbody>\n",
       "    <tr>\n",
       "      <th>0</th>\n",
       "      <td>K-Means</td>\n",
       "      <td>Clusters=8</td>\n",
       "      <td>0.189821</td>\n",
       "    </tr>\n",
       "    <tr>\n",
       "      <th>1</th>\n",
       "      <td>Affinity Propagation</td>\n",
       "      <td>Default</td>\n",
       "      <td>0.169388</td>\n",
       "    </tr>\n",
       "  </tbody>\n",
       "</table>\n",
       "</div>"
      ],
      "text/plain": [
       "              Algorithm   Parameter  Silhouette Score\n",
       "0               K-Means  Clusters=8          0.189821\n",
       "1  Affinity Propagation     Default          0.169388"
      ]
     },
     "execution_count": 3,
     "metadata": {},
     "output_type": "execute_result"
    }
   ],
   "source": [
    "# Defina o número de clusters\n",
    "num_clusters = 8\n",
    "\n",
    "# Execute o algoritmo K-Means\n",
    "kmeans = KMeans(n_clusters=num_clusters, random_state=42)\n",
    "kmeans_labels = kmeans.fit_predict(dataset)\n",
    "silhouette_avg_kmeans = silhouette_score(dataset, kmeans_labels)\n",
    "\n",
    "# Execute o algoritmo Affinity Propagation\n",
    "affinity_propagation = AffinityPropagation()\n",
    "affinity_propagation_labels = affinity_propagation.fit_predict(dataset)\n",
    "silhouette_avg_affinity = silhouette_score(dataset, affinity_propagation_labels)\n",
    "\n",
    "# Exiba os resultados\n",
    "results_df = pd.DataFrame([\n",
    "    (\"K-Means\", f\"Clusters={num_clusters}\", silhouette_avg_kmeans),\n",
    "    (\"Affinity Propagation\", \"Default\", silhouette_avg_affinity)\n",
    "], columns=[\"Algorithm\", \"Parameter\", \"Silhouette Score\"])\n",
    "\n",
    "results_df\n"
   ]
  },
  {
   "cell_type": "code",
   "execution_count": 4,
   "metadata": {},
   "outputs": [],
   "source": [
    "# Salvar o DataFrame results_regression em um arquivo CSV\n",
    "results_df.to_csv(\"resultados_clusterizacao.csv\", index=False)\n"
   ]
  }
 ],
 "metadata": {
  "kernelspec": {
   "display_name": "VsCode",
   "language": "python",
   "name": "python3"
  },
  "language_info": {
   "codemirror_mode": {
    "name": "ipython",
    "version": 3
   },
   "file_extension": ".py",
   "mimetype": "text/x-python",
   "name": "python",
   "nbconvert_exporter": "python",
   "pygments_lexer": "ipython3",
   "version": "3.11.4"
  },
  "orig_nbformat": 4
 },
 "nbformat": 4,
 "nbformat_minor": 2
}
